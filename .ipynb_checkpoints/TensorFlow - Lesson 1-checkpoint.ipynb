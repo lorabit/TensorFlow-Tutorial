{
 "cells": [
  {
   "cell_type": "markdown",
   "metadata": {},
   "source": [
    "# Fit curve\n",
    "\n",
    "We want test if TensorFlow does have the ability to fit any function.\n",
    "\n",
    "We choose `y=(x-1)^2` as an example."
   ]
  },
  {
   "cell_type": "markdown",
   "metadata": {},
   "source": [
    "## Simulate data \n",
    "\n",
    "X ranges from -5 ~ 100"
   ]
  },
  {
   "cell_type": "code",
   "execution_count": 4,
   "metadata": {},
   "outputs": [
    {
     "name": "stdout",
     "output_type": "stream",
     "text": [
      "[-5, -4, -3, -2, -1, 0, 1, 2, 3, 4, 5, 6, 7, 8, 9, 10, 11, 12, 13, 14, 15, 16, 17, 18, 19, 20, 21, 22, 23, 24, 25, 26, 27, 28, 29, 30, 31, 32, 33, 34, 35, 36, 37, 38, 39, 40, 41, 42, 43, 44, 45, 46, 47, 48, 49, 50, 51, 52, 53, 54, 55, 56, 57, 58, 59, 60, 61, 62, 63, 64, 65, 66, 67, 68, 69, 70, 71, 72, 73, 74, 75, 76, 77, 78, 79, 80, 81, 82, 83, 84, 85, 86, 87, 88, 89, 90, 91, 92, 93, 94, 95, 96, 97, 98, 99]\n",
      "[36.46694052841079, 25.806522219094994, 15.561496391482445, 9.831770599656434, 4.277229710390154, 2.385771969734888, 0.5992246235213589, 2.683745222194023, 3.4501555034483675, 7.977012361214678, 15.528859144795783, 24.101311827038955, 35.340710305375765, 50.2891209740183, 63.68463509904582, 81.30689568727777, 100.06020251156941, 120.74798956460697, 144.24618463774289, 170.41268212284518, 195.51757241027747, 226.04215118126328, 254.158008647229, 289.6519436808717, 325.9757383429099, 358.40264813685235, 401.5990350216418, 441.5121221843877, 482.6442816972423, 528.7677203265512, 577.8613419516896, 624.2041425401567, 677.2043374808292, 727.2992498611069, 785.3400951479459, 841.4297568545662, 898.159985223827, 959.2754758138474, 1023.8005601709103, 1086.490288684141, 1155.8701651625702, 1224.8549466622242, 1296.736408326551, 1368.2066739579338, 1444.1586136254955, 1521.3825066571972, 1601.568960716648, 1681.1239167495278, 1764.769228430953, 1847.3051368368183, 1935.6967736552253, 2025.229527000811, 2115.3503242560832, 2209.795240995269, 2303.6137634112183, 2400.8761209022837, 2499.994723130779, 2602.492132910918, 2703.325056730747, 2809.3980088465155, 2915.298693333939, 3024.2615782957255, 3135.8037842553535, 3247.719654791716, 3362.6765049929577, 3479.4207510746264, 3599.1654024040176, 3719.517928473368, 3844.699709194109, 3968.4547211956633, 4093.947081584769, 4223.40794899663, 4356.209973653858, 4488.678432845223, 4625.401695214926, 4761.908740377756, 4899.4773291792335, 5040.939960681329, 5185.156975977094, 5329.430550987419, 5478.616157868398, 5625.255169027302, 5775.301625950126, 5930.100649922307, 6084.554362646069, 6242.247358633158, 6397.454426320653, 6561.301683176827, 6722.718843136566, 6889.751242430675, 7056.09402883059, 7225.468993988567, 7395.73609813903, 7568.077158446873, 7742.716853444625, 7919.797121970428, 8100.650776385002, 8280.755795720528, 8463.453933604691, 8649.430428571748, 8836.47225037404, 9026.051353962224, 9216.550481344058, 9409.833146928377, 9604.956017372948]\n"
     ]
    }
   ],
   "source": [
    "import numpy as np\n",
    "n = 105\n",
    "x = [i-5 for i in range(0,n,1)]\n",
    "y = [(i-1)*(i-1) for i in x]\n",
    "# add noise \n",
    "y = [i+np.random.normal(0,1) for i in y]\n",
    "print(x)\n",
    "print(y)"
   ]
  },
  {
   "cell_type": "markdown",
   "metadata": {},
   "source": [
    "## Split date\n",
    "We want have a trainning dataset(60%) and a test dataset(40%)."
   ]
  },
  {
   "cell_type": "code",
   "execution_count": 5,
   "metadata": {},
   "outputs": [
    {
     "name": "stdout",
     "output_type": "stream",
     "text": [
      "105\n"
     ]
    }
   ],
   "source": [
    "import random\n",
    "order = list(range(0,n,1))\n",
    "random.shuffle(order)\n",
    "\n",
    "train_size = int(n*0.6)\n",
    "test_size = int(n*0.4)\n",
    "\n",
    "train_x = [[x[i]] for i in order[:train_size]]\n",
    "train_y = [[y[i]] for i in order[:train_size]]\n",
    "\n",
    "\n",
    "\n",
    "test_x = [[x[i]] for i in order[-test_size:]]\n",
    "test_y = [[y[i]] for i in order[-test_size:]]\n",
    "\n",
    "print(len(train_x)+len(test_x))"
   ]
  },
  {
   "cell_type": "code",
   "execution_count": null,
   "metadata": {
    "collapsed": true
   },
   "outputs": [],
   "source": []
  },
  {
   "cell_type": "markdown",
   "metadata": {},
   "source": [
    "## Train model"
   ]
  },
  {
   "cell_type": "code",
   "execution_count": 6,
   "metadata": {
    "collapsed": true
   },
   "outputs": [],
   "source": [
    "import tensorflow as tf"
   ]
  },
  {
   "cell_type": "markdown",
   "metadata": {},
   "source": [
    "## Linear regression\n",
    "\n",
    "`y=wx+b` \n",
    "\n",
    "w(1\\*1) b(1\\*1)"
   ]
  },
  {
   "cell_type": "code",
   "execution_count": 37,
   "metadata": {
    "collapsed": true
   },
   "outputs": [],
   "source": [
    "graph = tf.Graph()\n",
    "size = len(train_x)\n",
    "with graph.as_default(), tf.device('/cpu:0'):\n",
    "    inputs = tf.placeholder(tf.float32, shape=[None,1])\n",
    "    labels = tf.placeholder(tf.float32, shape=[None,1])\n",
    "\n",
    "    w = tf.Variable(tf.random_uniform([ 1,1],-0.1,0.1, dtype=tf.float32))\n",
    "    b = tf.Variable(tf.zeros([1]))\n",
    "\n",
    "    def the_model(x):\n",
    "        logits = tf.matmul(x,w)+b\n",
    "        return logits\n",
    "\n",
    "    estimated_labels = the_model(inputs)\n",
    "    loss = tf.reduce_mean(tf.squared_difference(estimated_labels, labels))\n",
    "    optimizer = tf.train.AdagradOptimizer(0.5).minimize(loss)"
   ]
  },
  {
   "cell_type": "code",
   "execution_count": 38,
   "metadata": {
    "collapsed": true
   },
   "outputs": [],
   "source": [
    "import matplotlib.pyplot as plt\n",
    "\n",
    "\n",
    "def plot(x,y,_y):\n",
    "    plt.plot([i[0] for i in x], [i[0] for i in y], 'ro')\n",
    "    plt.plot([i[0] for i in x], [i[0] for i in _y], 'bo')\n",
    "    plt.show()"
   ]
  },
  {
   "cell_type": "code",
   "execution_count": 39,
   "metadata": {},
   "outputs": [
    {
     "name": "stdout",
     "output_type": "stream",
     "text": [
      "1.3608e+07\n",
      "5.20054e+06\n",
      "3.3169e+06\n",
      "2.3695e+06\n",
      "1.83086e+06\n",
      "1.50773e+06\n",
      "1.30822e+06\n",
      "1.18286e+06\n",
      "1.10315e+06\n",
      "1.05197e+06\n",
      "1.01879e+06\n",
      "997044.0\n",
      "982589.0\n",
      "972796.0\n",
      "965991.0\n",
      "961105.0\n",
      "957454.0\n",
      "954602.0\n",
      "952268.0\n",
      "950272.0\n",
      "948497.0\n",
      "946871.0\n",
      "945346.0\n",
      "943889.0\n",
      "942485.0\n",
      "941117.0\n",
      "939777.0\n",
      "938460.0\n",
      "937161.0\n",
      "935883.0\n",
      "934619.0\n"
     ]
    },
    {
     "data": {
      "image/png": "[encoded data removed]",
      "text/plain": [
       "<matplotlib.figure.Figure at 0x7efd980d3fd0>"
      ]
     },
     "metadata": {},
     "output_type": "display_data"
    },
    {
     "data": {
      "image/png": "[encoded data removed]",
      "text/plain": [
       "<matplotlib.figure.Figure at 0x7efd65dd77f0>"
      ]
     },
     "metadata": {},
     "output_type": "display_data"
    }
   ],
   "source": [
    "n_step = 30000\n",
    "with tf.Session(graph=graph) as session:\n",
    "    tf.global_variables_initializer().run()\n",
    "    for i in range(n_step):\n",
    "        feed_dict = {inputs: train_x, labels: train_y}\n",
    "        _, _loss, _estimated_labels = session.run([optimizer,loss,estimated_labels],feed_dict = feed_dict)\n",
    "        if i % 1000 == 0:\n",
    "            print(_loss)\n",
    "    print(_loss)\n",
    "    feed_dict = {inputs: test_x, labels: test_y}\n",
    "    test_labels = estimated_labels.eval(feed_dict = feed_dict)\n",
    "\n",
    "    \n",
    "plot(train_x, train_y, _estimated_labels)\n",
    "plot(test_x, test_y, test_labels)"
   ]
  },
  {
   "cell_type": "code",
   "execution_count": null,
   "metadata": {
    "collapsed": true
   },
   "outputs": [],
   "source": []
  },
  {
   "cell_type": "markdown",
   "metadata": {},
   "source": [
    "## Full conntected \n",
    "\n",
    "`y=w_1*relu(w_0*x+b_0)+b_1`"
   ]
  },
  {
   "cell_type": "code",
   "execution_count": 75,
   "metadata": {
    "collapsed": true
   },
   "outputs": [],
   "source": [
    "size_layer_0 = 110\n",
    "\n",
    "graph = tf.Graph()\n",
    "with graph.as_default(), tf.device('/gpu:0'):\n",
    "    inputs = tf.placeholder(tf.float32, shape=[None,1])\n",
    "    labels = tf.placeholder(tf.float32, shape=[None,1])\n",
    "    \n",
    "    w0 = tf.Variable(tf.random_uniform([ 1,size_layer_0],-0.1,0.1, dtype=tf.float32))\n",
    "    b0 = tf.Variable(tf.zeros([size_layer_0])) \n",
    "    \n",
    "    w1 = tf.Variable(tf.random_uniform([ size_layer_0, 1],-0.1,0.1, dtype=tf.float32))\n",
    "    b1 = tf.Variable(tf.zeros([1]))\n",
    "    \n",
    "    def the_model(x):\n",
    "        logits = tf.matmul(x,w0)+b0\n",
    "        logits = tf.nn.relu(logits)\n",
    "        logits = tf.matmul(logits,w1)+b1\n",
    "        logits = tf.nn.relu(logits)\n",
    "        return logits\n",
    "    \n",
    "    estimated_labels = the_model(inputs)\n",
    "    loss = tf.reduce_mean(tf.squared_difference(estimated_labels, labels))\n",
    "    \n",
    "    optimizer = tf.train.AdagradOptimizer(0.5).minimize(loss)"
   ]
  },
  {
   "cell_type": "code",
   "execution_count": 76,
   "metadata": {},
   "outputs": [
    {
     "name": "stdout",
     "output_type": "stream",
     "text": [
      "1.35827e+07\n",
      "40283.6\n",
      "18327.6\n",
      "10933.2\n",
      "8677.74\n",
      "7479.51\n",
      "6674.64\n",
      "6153.91\n",
      "6080.22\n",
      "5452.23\n",
      "5208.2\n",
      "1313.05\n",
      "939.245\n",
      "787.176\n",
      "676.501\n",
      "582.487\n",
      "512.687\n",
      "456.949\n",
      "410.952\n",
      "372.512\n",
      "339.029\n",
      "311.146\n",
      "284.281\n",
      "261.671\n",
      "241.237\n",
      "223.01\n",
      "207.579\n",
      "191.638\n",
      "178.27\n",
      "166.295\n",
      "155.199\n"
     ]
    },
    {
     "data": {
      "image/png": "[encoded data removed]",
      "text/plain": [
       "<matplotlib.figure.Figure at 0x7efd64c05c50>"
      ]
     },
     "metadata": {},
     "output_type": "display_data"
    },
    {
     "data": {
      "image/png": "[encoded data removed]",
      "text/plain": [
       "<matplotlib.figure.Figure at 0x7efd6c1179e8>"
      ]
     },
     "metadata": {},
     "output_type": "display_data"
    }
   ],
   "source": [
    "n_step = 30000\n",
    "with tf.Session(graph=graph) as session:\n",
    "    tf.global_variables_initializer().run()\n",
    "    for i in range(n_step):\n",
    "        feed_dict = {inputs: train_x, labels: train_y}\n",
    "        _, _loss, _estimated_labels = session.run([optimizer,loss,estimated_labels],feed_dict = feed_dict)\n",
    "        if i % 1000 == 0:\n",
    "            print(_loss)\n",
    "    print(_loss)\n",
    "    feed_dict = {inputs: test_x, labels: test_y}\n",
    "    test_labels = estimated_labels.eval(feed_dict = feed_dict)\n",
    "\n",
    "    \n",
    "plot(train_x, train_y, _estimated_labels)\n",
    "plot(test_x, test_y, test_labels)"
   ]
  },
  {
   "cell_type": "markdown",
   "metadata": {},
   "source": [
    "`y=w_2*(w_1*relu(w_0*x+b_0)+b_1)+b_2`"
   ]
  },
  {
   "cell_type": "code",
   "execution_count": 104,
   "metadata": {
    "collapsed": true
   },
   "outputs": [],
   "source": [
    "size_layer_0 = 7\n",
    "size_layer_1 = 7\n",
    "\n",
    "graph = tf.Graph()\n",
    "with graph.as_default(), tf.device('/cpu:0'):\n",
    "    inputs = tf.placeholder(tf.float32, shape=[None,1])\n",
    "    labels = tf.placeholder(tf.float32, shape=[None,1])\n",
    "    \n",
    "    w0 = tf.Variable(tf.random_uniform([ 1,size_layer_0],-0.1,0.1, dtype=tf.float32))\n",
    "    b0 = tf.Variable(tf.zeros([size_layer_0])) \n",
    "    \n",
    "    w1 = tf.Variable(tf.random_uniform([ size_layer_0, size_layer_1],-0.1,0.1, dtype=tf.float32))\n",
    "    b1 = tf.Variable(tf.zeros([size_layer_1]))\n",
    "    \n",
    "    w2 = tf.Variable(tf.random_uniform([ size_layer_1, 1],-0.1,0.1, dtype=tf.float32))\n",
    "    b2 = tf.Variable(tf.zeros([1]))    \n",
    "    \n",
    "    def the_model(x):\n",
    "        logits = tf.matmul(x,w0)+b0\n",
    "        logits = tf.nn.relu(logits)\n",
    "        logits = tf.matmul(logits,w1)+b1\n",
    "        logits = tf.nn.relu(logits)\n",
    "        logits = tf.matmul(logits,w2)+b2\n",
    "        logits = tf.nn.relu(logits)\n",
    "        return logits\n",
    "    \n",
    "    estimated_labels = the_model(inputs)\n",
    "    loss = tf.reduce_mean(tf.squared_difference(estimated_labels, labels))\n",
    "    \n",
    "    optimizer = tf.train.AdagradOptimizer(0.5).minimize(loss)"
   ]
  },
  {
   "cell_type": "code",
   "execution_count": 105,
   "metadata": {},
   "outputs": [
    {
     "name": "stdout",
     "output_type": "stream",
     "text": [
      "1.35868e+07\n",
      "31015.8\n",
      "14213.6\n",
      "9468.5\n",
      "7653.71\n",
      "6644.23\n",
      "6262.18\n",
      "5991.99\n",
      "5699.71\n",
      "5703.05\n",
      "5457.99\n",
      "5491.69\n",
      "5138.57\n",
      "4889.59\n",
      "2886.37\n",
      "2131.43\n",
      "1939.35\n",
      "1819.37\n",
      "1652.16\n",
      "1352.17\n",
      "1253.37\n",
      "1190.56\n",
      "1125.36\n",
      "1091.72\n",
      "1054.38\n",
      "1028.35\n",
      "1003.09\n",
      "984.437\n",
      "969.965\n",
      "950.805\n",
      "939.092\n"
     ]
    },
    {
     "data": {
      "image/png": "[encoded data removed]",
      "text/plain": [
       "<matplotlib.figure.Figure at 0x7efd66025588>"
      ]
     },
     "metadata": {},
     "output_type": "display_data"
    },
    {
     "data": {
      "image/png": "[encoded data removed]",
      "text/plain": [
       "<matplotlib.figure.Figure at 0x7efd66025ba8>"
      ]
     },
     "metadata": {},
     "output_type": "display_data"
    }
   ],
   "source": [
    "n_step = 30000\n",
    "with tf.Session(graph=graph) as session:\n",
    "    tf.global_variables_initializer().run()\n",
    "    for i in range(n_step):\n",
    "        feed_dict = {inputs: train_x, labels: train_y}\n",
    "        _, _loss, _estimated_labels = session.run([optimizer,loss,estimated_labels],feed_dict = feed_dict)\n",
    "        if i % 1000 == 0:\n",
    "            print(_loss)\n",
    "    print(_loss)\n",
    "    feed_dict = {inputs: test_x, labels: test_y}\n",
    "    test_labels = estimated_labels.eval(feed_dict = feed_dict)\n",
    "\n",
    "    \n",
    "plot(train_x, train_y, _estimated_labels)\n",
    "plot(test_x, test_y, test_labels)"
   ]
  },
  {
   "cell_type": "code",
   "execution_count": null,
   "metadata": {
    "collapsed": true
   },
   "outputs": [],
   "source": []
  }
 ],
 "metadata": {
  "kernelspec": {
   "display_name": "Python 3",
   "language": "python",
   "name": "python3"
  },
  "language_info": {
   "codemirror_mode": {
    "name": "ipython",
    "version": 3
   },
   "file_extension": ".py",
   "mimetype": "text/x-python",
   "name": "python",
   "nbconvert_exporter": "python",
   "pygments_lexer": "ipython3",
   "version": "3.6.2"
  }
 },
 "nbformat": 4,
 "nbformat_minor": 2
}
