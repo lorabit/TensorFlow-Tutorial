{
 "cells": [
  {
   "cell_type": "markdown",
   "metadata": {},
   "source": [
    "We want test if TensorFlow does have the ability to fit any function.\n",
    "\n",
    "We choose `y=(x-1)^2` as an example."
   ]
  },
  {
   "cell_type": "markdown",
   "metadata": {},
   "source": [
    "# Simulate data \n",
    "\n",
    "X ranges from -5 ~ 100"
   ]
  },
  {
   "cell_type": "code",
   "execution_count": 107,
   "metadata": {},
   "outputs": [
    {
     "name": "stdout",
     "output_type": "stream",
     "text": [
      "[-5, -4, -3, -2, -1, 0, 1, 2, 3, 4, 5, 6, 7, 8, 9, 10, 11, 12, 13, 14, 15, 16, 17, 18, 19, 20, 21, 22, 23, 24, 25, 26, 27, 28, 29, 30, 31, 32, 33, 34, 35, 36, 37, 38, 39, 40, 41, 42, 43, 44, 45, 46, 47, 48, 49, 50, 51, 52, 53, 54, 55, 56, 57, 58, 59, 60, 61, 62, 63, 64, 65, 66, 67, 68, 69, 70, 71, 72, 73, 74, 75, 76, 77, 78, 79, 80, 81, 82, 83, 84, 85, 86, 87, 88, 89, 90, 91, 92, 93, 94, 95, 96, 97, 98, 99]\n",
      "[122376.22360950132, 115535.71147986248, 108871.3943561214, 102391.11626746134, 96099.08343722891, 89998.93678357328, 84100.92238758321, 78408.59559261645, 72927.76906455852, 67663.52539418977, 62625.38102899994, 57815.66138819535, 53242.08649977478, 48913.63976570725, 44827.576612211335, 40999.35639840882, 37430.46916634825, 34127.49732481659, 31097.698875533686, 28341.907272757944, 25874.729977646024, 23695.245956432038, 21813.190581823128, 20232.392488437785, 18958.00155160556, 18000.59213169165, 17361.068637723376, 17047.426914869277, 17067.270931794654, 17424.541683444706, 18125.12228455812, 19176.14837858937, 20582.28475938843, 22352.778331473473, 24487.25801650845, 26999.634807403807, 29890.90999975354, 33169.87812368415, 36836.28106405384, 40903.55464730572, 45377.279956511265, 50255.90445432185, 55552.68430931819, 61270.877540439695, 67417.82500454242, 73999.8466348978, 81020.1061244213, 88487.30635995622, 96405.94772835205, 104782.55106066502, 113625.09810751794, 122935.4251674201, 132723.78155199898, 142993.7739318836, 153748.44289075414, 164999.8196352311, 176753.96224943106, 189006.9999052706, 201776.45114388762, 215063.12243814743, 228875.34722554873, 243215.648664857, 258092.50286613035, 273511.19103859557, 289480.9246655203, 305998.9570991152, 323079.16790113476, 340728.3766158016, 358948.77245745383, 377744.3330639472, 397124.9397576274, 417094.5068395042, 437661.55717790016, 458831.7410330608, 480608.607107734, 503001.51236069435, 526010.7624588822, 549648.33595438, 573915.852546609, 598824.3454860797, 624373.6487974175, 650574.7883238096, 677433.8489741397, 704952.6189810992, 733138.8058147334, 761998.6696648955, 791541.8036423308, 821768.1626811197, 852686.2471159489, 884302.3146867692, 916623.8448779894, 949655.1800761096, 983402.0099678824, 1017872.7398214097, 1053068.89051015, 1089000.3872996783, 1125671.1237909105, 1163086.974579224, 1201257.3125207098, 1240185.3501746857, 1279874.9384920427, 1320337.9479998534, 1361573.1691256822, 1403592.183763089, 1446399.0539495528]\n"
     ]
    }
   ],
   "source": [
    "import numpy as np\n",
    "n = 105\n",
    "x = [i-5 for i in range(0,n,1)]\n",
    "# y = [(i-1)*(i-1) for i in x]\n",
    "y = [pow(i,3)+100*pow(i-30,2) for i in x]\n",
    "# add noise \n",
    "y = [i+np.random.normal(0,1) for i in y]\n",
    "print(x)\n",
    "print(y)"
   ]
  },
  {
   "cell_type": "markdown",
   "metadata": {},
   "source": [
    "# Split date\n",
    "We want have a trainning dataset(60%) and a test dataset(40%)."
   ]
  },
  {
   "cell_type": "code",
   "execution_count": 108,
   "metadata": {},
   "outputs": [
    {
     "name": "stdout",
     "output_type": "stream",
     "text": [
      "105\n"
     ]
    }
   ],
   "source": [
    "import random\n",
    "order = list(range(0,n,1))\n",
    "random.shuffle(order)\n",
    "\n",
    "train_size = int(n*0.6)\n",
    "test_size = int(n*0.4)\n",
    "\n",
    "train_x = [[x[i]] for i in order[:train_size]]\n",
    "train_y = [[y[i]] for i in order[:train_size]]\n",
    "\n",
    "\n",
    "\n",
    "test_x = [[x[i]] for i in order[-test_size:]]\n",
    "test_y = [[y[i]] for i in order[-test_size:]]\n",
    "\n",
    "print(len(train_x)+len(test_x))"
   ]
  },
  {
   "cell_type": "code",
   "execution_count": null,
   "metadata": {
    "collapsed": true
   },
   "outputs": [],
   "source": []
  },
  {
   "cell_type": "markdown",
   "metadata": {},
   "source": [
    "# Train model"
   ]
  },
  {
   "cell_type": "code",
   "execution_count": 92,
   "metadata": {
    "collapsed": true
   },
   "outputs": [],
   "source": [
    "import tensorflow as tf"
   ]
  },
  {
   "cell_type": "markdown",
   "metadata": {},
   "source": [
    "## Linear regression\n",
    "\n",
    "`y=wx+b` \n",
    "\n",
    "w(1\\*1) b(1\\*1)"
   ]
  },
  {
   "cell_type": "code",
   "execution_count": 109,
   "metadata": {},
   "outputs": [],
   "source": [
    "graph = tf.Graph()\n",
    "with graph.as_default(), tf.device('/cpu:0'):\n",
    "    inputs = tf.placeholder(tf.float32, shape=[train_size,1])\n",
    "    labels = tf.placeholder(tf.float32, shape=[train_size,1])\n",
    "    \n",
    "    w = tf.Variable(tf.random_uniform([ 1,1],-0.1,0.1, dtype=tf.float32))\n",
    "    b = tf.Variable(tf.zeros([1]))\n",
    "    \n",
    "    def the_model(x):\n",
    "        logits = tf.matmul(x,w)+b\n",
    "        return logits\n",
    "    \n",
    "    estimated_labels = the_model(inputs)\n",
    "    loss = tf.reduce_mean(tf.squared_difference(estimated_labels, labels))\n",
    "    \n",
    "    optimizer = tf.train.AdagradOptimizer(0.5).minimize(loss)"
   ]
  },
  {
   "cell_type": "code",
   "execution_count": 125,
   "metadata": {},
   "outputs": [
    {
     "name": "stdout",
     "output_type": "stream",
     "text": [
      "3.12457e+11\n",
      "4.87994e+10\n",
      "4.7096e+10\n",
      "4.56354e+10\n",
      "4.40108e+10\n",
      "4.18622e+10\n",
      "3.87587e+10\n",
      "3.43018e+10\n",
      "2.86145e+10\n",
      "2.24167e+10\n",
      "1.6996e+10\n",
      "1.27548e+10\n",
      "9.57152e+09\n",
      "7.44377e+09\n",
      "6.02722e+09\n",
      "5.07158e+09\n",
      "4.3568e+09\n",
      "3.84138e+09\n",
      "3.54389e+09\n",
      "3.38138e+09\n",
      "3.29634e+09\n",
      "3.25327e+09\n",
      "3.23195e+09\n",
      "3.19465e+09\n",
      "3.17127e+09\n",
      "3.16503e+09\n",
      "3.15313e+09\n",
      "3.15004e+09\n",
      "3.14849e+09\n",
      "3.14771e+09\n",
      "3.13258e+09\n"
     ]
    }
   ],
   "source": [
    "n_step = 30000\n",
    "with tf.Session(graph=graph) as session:\n",
    "    tf.global_variables_initializer().run()\n",
    "    for i in range(n_step):\n",
    "        feed_dict = {inputs: train_x, labels: train_y}\n",
    "        _, _loss, _estimated_labels = session.run([optimizer,loss,estimated_labels],feed_dict = feed_dict)\n",
    "        if i % 1000 == 0:\n",
    "            print(_loss)\n",
    "    print(_loss)"
   ]
  },
  {
   "cell_type": "code",
   "execution_count": 126,
   "metadata": {},
   "outputs": [
    {
     "data": {
      "image/png": "[encoded data removed]",
      "text/plain": [
       "<matplotlib.figure.Figure at 0x7fb268e3b588>"
      ]
     },
     "metadata": {},
     "output_type": "display_data"
    }
   ],
   "source": [
    "import matplotlib.pyplot as plt\n",
    "\n",
    "def plot(x,y,_y):\n",
    "    plt.plot([i[0] for i in x], [i[0] for i in y], 'ro')\n",
    "    plt.plot([i[0] for i in x], [i[0] for i in _y], 'bo')\n",
    "    plt.show()\n",
    "\n",
    "plot(train_x, train_y, _estimated_labels)\n",
    "# for i in range(train_size):\n",
    "#     print(\"%f %f\" %(train_y[i][0],_estimated_labels[i][0]))"
   ]
  },
  {
   "cell_type": "markdown",
   "metadata": {},
   "source": [
    "# Full conntected \n",
    "\n",
    "`y=w_1*relu(w_0*x+b_0)+b_1`"
   ]
  },
  {
   "cell_type": "code",
   "execution_count": null,
   "metadata": {
    "collapsed": true
   },
   "outputs": [],
   "source": [
    "size_layer_0 = 3\n",
    "\n",
    "graph = tf.Graph()\n",
    "with graph.as_default(), tf.device('/cpu:0'):\n",
    "    inputs = tf.placeholder(tf.float32, shape=[train_size,1])\n",
    "    labels = tf.placeholder(tf.float32, shape=[train_size,1])\n",
    "    \n",
    "    w0 = tf.Variable(tf.random_uniform([ 1,size_layer_0],-0.1,0.1, dtype=tf.float32))\n",
    "    b0 = tf.Variable(tf.zeros([size_layer_0])) \n",
    "    \n",
    "    w1 = tf.Variable(tf.random_uniform([ size_layer_0, 1],-0.1,0.1, dtype=tf.float32))\n",
    "    b1 = tf.Variable(tf.zeros([1]))\n",
    "    \n",
    "    def the_model(x):\n",
    "        logits = tf.matmul(x,w0)+b0\n",
    "        logits = tf.nn.relu(logits)\n",
    "        logits = tf.matmul(logits,w1)+b1\n",
    "        return logits\n",
    "    \n",
    "    estimated_labels = the_model(inputs)\n",
    "    loss = tf.reduce_mean(tf.squared_difference(estimated_labels, labels))\n",
    "    \n",
    "    optimizer = tf.train.AdagradOptimizer(0.5).minimize(loss)"
   ]
  },
  {
   "cell_type": "markdown",
   "metadata": {},
   "source": [
    "`y=w_2*(w_1*relu(w_0*x+b_0)+b_1)+b_2`"
   ]
  },
  {
   "cell_type": "code",
   "execution_count": 124,
   "metadata": {
    "collapsed": true
   },
   "outputs": [],
   "source": [
    "size_layer_0 = 3\n",
    "size_layer_1 = 3\n",
    "\n",
    "graph = tf.Graph()\n",
    "with graph.as_default(), tf.device('/cpu:0'):\n",
    "    inputs = tf.placeholder(tf.float32, shape=[train_size,1])\n",
    "    labels = tf.placeholder(tf.float32, shape=[train_size,1])\n",
    "    \n",
    "    w0 = tf.Variable(tf.random_uniform([ 1,size_layer_0],-0.1,0.1, dtype=tf.float32))\n",
    "    b0 = tf.Variable(tf.zeros([size_layer_0])) \n",
    "    \n",
    "    w1 = tf.Variable(tf.random_uniform([ size_layer_0, size_layer_1],-0.1,0.1, dtype=tf.float32))\n",
    "    b1 = tf.Variable(tf.zeros([size_layer_1]))\n",
    "    \n",
    "    w2 = tf.Variable(tf.random_uniform([ size_layer_1, 1],-0.1,0.1, dtype=tf.float32))\n",
    "    b2 = tf.Variable(tf.zeros([1]))    \n",
    "    \n",
    "    def the_model(x):\n",
    "        logits = tf.matmul(x,w0)+b0\n",
    "        logits = tf.nn.relu(logits)\n",
    "        logits = tf.matmul(logits,w1)+b1\n",
    "        logits = tf.nn.relu(logits)\n",
    "        logits = tf.matmul(logits,w2)+b2\n",
    "        return logits\n",
    "    \n",
    "    estimated_labels = the_model(inputs)\n",
    "    loss = tf.reduce_mean(tf.squared_difference(estimated_labels, labels))\n",
    "    \n",
    "    optimizer = tf.train.AdagradOptimizer(0.5).minimize(loss)"
   ]
  },
  {
   "cell_type": "code",
   "execution_count": null,
   "metadata": {
    "collapsed": true
   },
   "outputs": [],
   "source": []
  }
 ],
 "metadata": {
  "kernelspec": {
   "display_name": "Python 3",
   "language": "python",
   "name": "python3"
  },
  "language_info": {
   "codemirror_mode": {
    "name": "ipython",
    "version": 3
   },
   "file_extension": ".py",
   "mimetype": "text/x-python",
   "name": "python",
   "nbconvert_exporter": "python",
   "pygments_lexer": "ipython3",
   "version": "3.6.2"
  }
 },
 "nbformat": 4,
 "nbformat_minor": 2
}
